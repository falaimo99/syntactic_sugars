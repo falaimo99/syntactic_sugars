{
 "cells": [
  {
   "cell_type": "code",
   "execution_count": null,
   "metadata": {},
   "outputs": [],
   "source": [
    "class GenericQueryProcessor(object):\n",
    "    def __init__(self, queryProcessors):\n",
    "        self.queryProcessors = queryProcessors\n",
    "        self.queryProcessors = []\n",
    "\n",
    "    def cleanQueryProcessors (self):\n",
    "        self.queryProcessors.clear()\n",
    "\n",
    "    def addQueryProcessor(self, QueryProcessor):\n",
    "        self.queryProcessors.append(QueryProcessor)\n",
    "    \n",
    "    def getAllAnnotations(self):\n",
    "        pass \n",
    "    \n",
    "\n",
    "\n"
   ]
  },
  {
   "cell_type": "code",
   "execution_count": null,
   "metadata": {},
   "outputs": [],
   "source": []
  }
 ],
 "metadata": {
  "kernelspec": {
   "display_name": "Python 3",
   "language": "python",
   "name": "python3"
  },
  "language_info": {
   "codemirror_mode": {
    "name": "ipython",
    "version": 3
   },
   "file_extension": ".py",
   "mimetype": "text/x-python",
   "name": "python",
   "nbconvert_exporter": "python",
   "pygments_lexer": "ipython3",
   "version": "3.10.8"
  },
  "orig_nbformat": 4
 },
 "nbformat": 4,
 "nbformat_minor": 2
}
