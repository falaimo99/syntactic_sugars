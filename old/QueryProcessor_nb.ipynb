{
 "cells": [
  {
   "cell_type": "code",
   "execution_count": 2,
   "metadata": {},
   "outputs": [
    {
     "data": {
      "text/html": [
       "<div>\n",
       "<style scoped>\n",
       "    .dataframe tbody tr th:only-of-type {\n",
       "        vertical-align: middle;\n",
       "    }\n",
       "\n",
       "    .dataframe tbody tr th {\n",
       "        vertical-align: top;\n",
       "    }\n",
       "\n",
       "    .dataframe thead th {\n",
       "        text-align: right;\n",
       "    }\n",
       "</style>\n",
       "<table border=\"1\" class=\"dataframe\">\n",
       "  <thead>\n",
       "    <tr style=\"text-align: right;\">\n",
       "      <th></th>\n",
       "      <th>annotation</th>\n",
       "      <th>target</th>\n",
       "    </tr>\n",
       "  </thead>\n",
       "  <tbody>\n",
       "    <tr>\n",
       "      <th>0</th>\n",
       "      <td>https://dl.ficlit.unibo.it/iiif/2/28429/annota...</td>\n",
       "      <td>https://dl.ficlit.unibo.it/iiif/2/28429/canvas/p1</td>\n",
       "    </tr>\n",
       "  </tbody>\n",
       "</table>\n",
       "</div>"
      ],
      "text/plain": [
       "                                          annotation                                             target\n",
       "0  https://dl.ficlit.unibo.it/iiif/2/28429/annota...  https://dl.ficlit.unibo.it/iiif/2/28429/canvas/p1"
      ]
     },
     "execution_count": 2,
     "metadata": {},
     "output_type": "execute_result"
    }
   ],
   "source": [
    "from sqlite3 import connect\n",
    "from pandas import read_csv, Series, DataFrame, read_sql\n",
    "import pandas as pd\n",
    "\n",
    "with connect(\"relational.db\") as con: \n",
    "    query_1 = \"SELECT annotation,target FROM Annotation WHERE annotation='https://dl.ficlit.unibo.it/iiif/2/28429/annotation/p0001-image'\"\n",
    "    annotations_query = read_sql(query_1, con)\n",
    "    "
   ]
  },
  {
   "cell_type": "code",
   "execution_count": 11,
   "metadata": {},
   "outputs": [
    {
     "data": {
      "text/html": [
       "<div>\n",
       "<style scoped>\n",
       "    .dataframe tbody tr th:only-of-type {\n",
       "        vertical-align: middle;\n",
       "    }\n",
       "\n",
       "    .dataframe tbody tr th {\n",
       "        vertical-align: top;\n",
       "    }\n",
       "\n",
       "    .dataframe thead th {\n",
       "        text-align: right;\n",
       "    }\n",
       "</style>\n",
       "<table border=\"1\" class=\"dataframe\">\n",
       "  <thead>\n",
       "    <tr style=\"text-align: right;\">\n",
       "      <th></th>\n",
       "      <th>e</th>\n",
       "    </tr>\n",
       "  </thead>\n",
       "  <tbody>\n",
       "    <tr>\n",
       "      <th>0</th>\n",
       "      <td>https://dl.ficlit.unibo.it/iiif/2/28429/canvas...</td>\n",
       "    </tr>\n",
       "    <tr>\n",
       "      <th>1</th>\n",
       "      <td>https://dl.ficlit.unibo.it/iiif/2/28429/canvas...</td>\n",
       "    </tr>\n",
       "    <tr>\n",
       "      <th>2</th>\n",
       "      <td>https://dl.ficlit.unibo.it/iiif/2/28429/canvas...</td>\n",
       "    </tr>\n",
       "    <tr>\n",
       "      <th>3</th>\n",
       "      <td>https://dl.ficlit.unibo.it/iiif/2/28429/canvas...</td>\n",
       "    </tr>\n",
       "    <tr>\n",
       "      <th>4</th>\n",
       "      <td>https://dl.ficlit.unibo.it/iiif/2/28429/canvas...</td>\n",
       "    </tr>\n",
       "    <tr>\n",
       "      <th>...</th>\n",
       "      <td>...</td>\n",
       "    </tr>\n",
       "    <tr>\n",
       "      <th>234</th>\n",
       "      <td>https://dl.ficlit.unibo.it/iiif/2/28429/canvas...</td>\n",
       "    </tr>\n",
       "    <tr>\n",
       "      <th>235</th>\n",
       "      <td>https://dl.ficlit.unibo.it/iiif/2/28429/canvas...</td>\n",
       "    </tr>\n",
       "    <tr>\n",
       "      <th>236</th>\n",
       "      <td>https://dl.ficlit.unibo.it/iiif/2/28429/canvas...</td>\n",
       "    </tr>\n",
       "    <tr>\n",
       "      <th>237</th>\n",
       "      <td>https://dl.ficlit.unibo.it/iiif/2/28429/canvas...</td>\n",
       "    </tr>\n",
       "    <tr>\n",
       "      <th>238</th>\n",
       "      <td>https://dl.ficlit.unibo.it/iiif/2/28429/canvas...</td>\n",
       "    </tr>\n",
       "  </tbody>\n",
       "</table>\n",
       "<p>239 rows × 1 columns</p>\n",
       "</div>"
      ],
      "text/plain": [
       "                                                     e\n",
       "0    https://dl.ficlit.unibo.it/iiif/2/28429/canvas...\n",
       "1    https://dl.ficlit.unibo.it/iiif/2/28429/canvas...\n",
       "2    https://dl.ficlit.unibo.it/iiif/2/28429/canvas...\n",
       "3    https://dl.ficlit.unibo.it/iiif/2/28429/canvas...\n",
       "4    https://dl.ficlit.unibo.it/iiif/2/28429/canvas...\n",
       "..                                                 ...\n",
       "234  https://dl.ficlit.unibo.it/iiif/2/28429/canvas...\n",
       "235  https://dl.ficlit.unibo.it/iiif/2/28429/canvas...\n",
       "236  https://dl.ficlit.unibo.it/iiif/2/28429/canvas...\n",
       "237  https://dl.ficlit.unibo.it/iiif/2/28429/canvas...\n",
       "238  https://dl.ficlit.unibo.it/iiif/2/28429/canvas...\n",
       "\n",
       "[239 rows x 1 columns]"
      ]
     },
     "execution_count": 11,
     "metadata": {},
     "output_type": "execute_result"
    }
   ],
   "source": []
  },
  {
   "cell_type": "code",
   "execution_count": 18,
   "metadata": {},
   "outputs": [
    {
     "data": {
      "text/html": [
       "<div>\n",
       "<style scoped>\n",
       "    .dataframe tbody tr th:only-of-type {\n",
       "        vertical-align: middle;\n",
       "    }\n",
       "\n",
       "    .dataframe tbody tr th {\n",
       "        vertical-align: top;\n",
       "    }\n",
       "\n",
       "    .dataframe thead th {\n",
       "        text-align: right;\n",
       "    }\n",
       "</style>\n",
       "<table border=\"1\" class=\"dataframe\">\n",
       "  <thead>\n",
       "    <tr style=\"text-align: right;\">\n",
       "      <th></th>\n",
       "      <th>annotation</th>\n",
       "      <th>type</th>\n",
       "    </tr>\n",
       "  </thead>\n",
       "  <tbody>\n",
       "    <tr>\n",
       "      <th>0</th>\n",
       "      <td>https://dl.ficlit.unibo.it/iiif/2/28429/annota...</td>\n",
       "      <td>https://github.com/falaimo99/syntactic_sugars/...</td>\n",
       "    </tr>\n",
       "  </tbody>\n",
       "</table>\n",
       "</div>"
      ],
      "text/plain": [
       "                                          annotation                                               type\n",
       "0  https://dl.ficlit.unibo.it/iiif/2/28429/annota...  https://github.com/falaimo99/syntactic_sugars/..."
      ]
     },
     "execution_count": 18,
     "metadata": {},
     "output_type": "execute_result"
    }
   ],
   "source": [
    "from pandas import merge\n",
    "\n",
    "df = merge(annotations_query, type_query)\n",
    "df = df.drop([\"target\"], axis=1)\n",
    "\n",
    "df"
   ]
  }
 ],
 "metadata": {
  "kernelspec": {
   "display_name": "Python 3",
   "language": "python",
   "name": "python3"
  },
  "language_info": {
   "codemirror_mode": {
    "name": "ipython",
    "version": 3
   },
   "file_extension": ".py",
   "mimetype": "text/x-python",
   "name": "python",
   "nbconvert_exporter": "python",
   "pygments_lexer": "ipython3",
   "version": "3.11.3"
  },
  "orig_nbformat": 4
 },
 "nbformat": 4,
 "nbformat_minor": 2
}
