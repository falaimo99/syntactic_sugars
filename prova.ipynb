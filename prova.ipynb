{
 "cells": [
  {
   "cell_type": "code",
   "execution_count": 2,
   "metadata": {},
   "outputs": [
    {
     "data": {
      "text/html": [
       "<div>\n",
       "<style scoped>\n",
       "    .dataframe tbody tr th:only-of-type {\n",
       "        vertical-align: middle;\n",
       "    }\n",
       "\n",
       "    .dataframe tbody tr th {\n",
       "        vertical-align: top;\n",
       "    }\n",
       "\n",
       "    .dataframe thead th {\n",
       "        text-align: right;\n",
       "    }\n",
       "</style>\n",
       "<table border=\"1\" class=\"dataframe\">\n",
       "  <thead>\n",
       "    <tr style=\"text-align: right;\">\n",
       "      <th></th>\n",
       "      <th>id</th>\n",
       "      <th>title</th>\n",
       "      <th>creators</th>\n",
       "    </tr>\n",
       "  </thead>\n",
       "  <tbody>\n",
       "    <tr>\n",
       "      <th>0</th>\n",
       "      <td>https://dl.ficlit.unibo.it/iiif/2/19425/manifest</td>\n",
       "      <td>Raimondi, Giuseppe. Quaderno manoscritto, \"La ...</td>\n",
       "      <td>Raimondi, Giuseppe</td>\n",
       "    </tr>\n",
       "    <tr>\n",
       "      <th>1</th>\n",
       "      <td>https://dl.ficlit.unibo.it/iiif/2/19428/manifest</td>\n",
       "      <td>Raimondi, Giuseppe. Quaderno manoscritto, \"Cas...</td>\n",
       "      <td>Raimondi, Giuseppe</td>\n",
       "    </tr>\n",
       "  </tbody>\n",
       "</table>\n",
       "</div>"
      ],
      "text/plain": [
       "                                                 id  \\\n",
       "0  https://dl.ficlit.unibo.it/iiif/2/19425/manifest   \n",
       "1  https://dl.ficlit.unibo.it/iiif/2/19428/manifest   \n",
       "\n",
       "                                               title            creators  \n",
       "0  Raimondi, Giuseppe. Quaderno manoscritto, \"La ...  Raimondi, Giuseppe  \n",
       "1  Raimondi, Giuseppe. Quaderno manoscritto, \"Cas...  Raimondi, Giuseppe  "
      ]
     },
     "execution_count": 2,
     "metadata": {},
     "output_type": "execute_result"
    }
   ],
   "source": [
    "from sqlite3 import connect\n",
    "from pandas import read_sql\n",
    "\n",
    "with connect(\"relational.db\") as con:\n",
    "    query = \"SELECT DISTINCT EntityWithMetadata.id, EntityWithMetadata.title, EntityWithMetadata.creators FROM EntityWithMetadata LEFT JOIN creators_table ON EntityWithMetadata.creatorId = creators_table.creatorId WHERE creator='Raimondi, Giuseppe'\"\n",
    "    df_sql = read_sql(query, con)\n",
    "    \n",
    "df_sql  # show the content of the result of the query\n",
    "\n",
    "\n"
   ]
  }
 ],
 "metadata": {
  "kernelspec": {
   "display_name": "Python 3",
   "language": "python",
   "name": "python3"
  },
  "language_info": {
   "codemirror_mode": {
    "name": "ipython",
    "version": 3
   },
   "file_extension": ".py",
   "mimetype": "text/x-python",
   "name": "python",
   "nbconvert_exporter": "python",
   "pygments_lexer": "ipython3",
   "version": "3.10.8"
  },
  "orig_nbformat": 4
 },
 "nbformat": 4,
 "nbformat_minor": 2
}
